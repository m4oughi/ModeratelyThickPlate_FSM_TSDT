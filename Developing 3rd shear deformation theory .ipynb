{
 "cells": [
  {
   "cell_type": "code",
   "execution_count": 1,
   "metadata": {},
   "outputs": [],
   "source": [
    "from sympy import *\n",
    "from IPython.display import display"
   ]
  },
  {
   "cell_type": "markdown",
   "metadata": {},
   "source": [
    "### inputs"
   ]
  },
  {
   "cell_type": "code",
   "execution_count": 2,
   "metadata": {},
   "outputs": [],
   "source": [
    "E = 2*(10**6)\n",
    "noo = 0.3\n",
    "a = 1\n",
    "b = 1\n",
    "h = 0.1\n",
    "m = 1\n",
    "n = 1\n",
    "ax = 1\n",
    "ay=0\n",
    "axy=0"
   ]
  },
  {
   "cell_type": "markdown",
   "metadata": {},
   "source": [
    "### Shape Functions"
   ]
  },
  {
   "cell_type": "code",
   "execution_count": 3,
   "metadata": {},
   "outputs": [],
   "source": [
    "x, y, z = symbols(\"x y z\")\n",
    "Ni = Function(\"Ni\")(x)\n",
    "Fi = Function(\"Fi\")(x)\n",
    "Hi = Function(\"Hi\")(x)\n",
    "gu = Function(\"gu\")(y)\n",
    "gv = Function(\"gv\")(y)"
   ]
  },
  {
   "cell_type": "markdown",
   "metadata": {},
   "source": [
    "### Displacement Fields"
   ]
  },
  {
   "cell_type": "code",
   "execution_count": 4,
   "metadata": {},
   "outputs": [
    {
     "name": "stdout",
     "output_type": "stream",
     "text": [
      "U0 = \n"
     ]
    },
    {
     "data": {
      "text/latex": [
       "$\\displaystyle U_{ij} \\operatorname{Ni}{\\left(x \\right)} \\operatorname{gu}{\\left(y \\right)}$"
      ],
      "text/plain": [
       "U_ij*Ni(x)*gu(y)"
      ]
     },
     "metadata": {},
     "output_type": "display_data"
    },
    {
     "name": "stdout",
     "output_type": "stream",
     "text": [
      "V0 = \n"
     ]
    },
    {
     "data": {
      "text/latex": [
       "$\\displaystyle V_{ij} \\operatorname{Ni}{\\left(x \\right)} \\operatorname{gv}{\\left(y \\right)}$"
      ],
      "text/plain": [
       "V_ij*Ni(x)*gv(y)"
      ]
     },
     "metadata": {},
     "output_type": "display_data"
    },
    {
     "name": "stdout",
     "output_type": "stream",
     "text": [
      "W0 = \n"
     ]
    },
    {
     "data": {
      "text/latex": [
       "$\\displaystyle \\left(W_{ij} \\operatorname{Fi}{\\left(x \\right)} + \\operatorname{Hi}{\\left(x \\right)} \\frac{d}{d x} W_{ij}\\right) \\operatorname{gu}{\\left(y \\right)}$"
      ],
      "text/plain": [
       "(W_ij*Fi(x) + Hi(x)*Derivative(W_ij, x))*gu(y)"
      ]
     },
     "metadata": {},
     "output_type": "display_data"
    },
    {
     "name": "stdout",
     "output_type": "stream",
     "text": [
      "saix = \n"
     ]
    },
    {
     "data": {
      "text/latex": [
       "$\\displaystyle SAIX_{ij} \\operatorname{Ni}{\\left(x \\right)} \\operatorname{gu}{\\left(y \\right)}$"
      ],
      "text/plain": [
       "SAIX_ij*Ni(x)*gu(y)"
      ]
     },
     "metadata": {},
     "output_type": "display_data"
    },
    {
     "name": "stdout",
     "output_type": "stream",
     "text": [
      "saiy = \n"
     ]
    },
    {
     "data": {
      "text/latex": [
       "$\\displaystyle SAIY_{ij} \\operatorname{Ni}{\\left(x \\right)} \\operatorname{gv}{\\left(y \\right)}$"
      ],
      "text/plain": [
       "SAIY_ij*Ni(x)*gv(y)"
      ]
     },
     "metadata": {},
     "output_type": "display_data"
    }
   ],
   "source": [
    "U_ij, V_ij, W_ij, SAIX_ij, SAIY_ij = symbols(\"U_ij V_ij W_ij SAIX_ij SAIY_ij\")\n",
    "U0 = Ni*gu*U_ij\n",
    "V0 = Ni*gv*V_ij\n",
    "W0 = (Fi*W_ij+Hi*Derivative(W_ij, x))*gu\n",
    "saix = Ni*gu*SAIX_ij\n",
    "saiy = Ni*gv*SAIY_ij\n",
    "\n",
    "print(\"U0 = \")\n",
    "display(U0)\n",
    "print(\"V0 = \")\n",
    "display(V0)\n",
    "print(\"W0 = \")\n",
    "display(W0)\n",
    "print(\"saix = \")\n",
    "display(saix)\n",
    "print(\"saiy = \")\n",
    "display(saiy)"
   ]
  },
  {
   "cell_type": "markdown",
   "metadata": {},
   "source": [
    "## Displacements"
   ]
  },
  {
   "cell_type": "code",
   "execution_count": 5,
   "metadata": {},
   "outputs": [
    {
     "name": "stdout",
     "output_type": "stream",
     "text": [
      "u(x, y) = \n"
     ]
    },
    {
     "data": {
      "text/latex": [
       "$\\displaystyle K_{1} z^{3} \\left(SAIX_{ij} \\operatorname{Ni}{\\left(x \\right)} \\operatorname{gu}{\\left(y \\right)} + \\left(W_{ij} \\frac{d}{d x} \\operatorname{Fi}{\\left(x \\right)} + \\frac{d}{d x} W_{ij} \\frac{d}{d x} \\operatorname{Hi}{\\left(x \\right)}\\right) \\operatorname{gu}{\\left(y \\right)}\\right) + SAIX_{ij} z \\operatorname{Ni}{\\left(x \\right)} \\operatorname{gu}{\\left(y \\right)} + U_{ij} \\operatorname{Ni}{\\left(x \\right)} \\operatorname{gu}{\\left(y \\right)}$"
      ],
      "text/plain": [
       "K1*z**3*(SAIX_ij*Ni(x)*gu(y) + (W_ij*Derivative(Fi(x), x) + Derivative(W_ij, x)*Derivative(Hi(x), x))*gu(y)) + SAIX_ij*z*Ni(x)*gu(y) + U_ij*Ni(x)*gu(y)"
      ]
     },
     "metadata": {},
     "output_type": "display_data"
    }
   ],
   "source": [
    "# K1 = -4/(3*(h**2)) \n",
    "K1 = Symbol(\"K1\")\n",
    "u = U0+z*saix+K1*(z**3)*(saix+diff(W0, x))\n",
    "print(\"u(x, y) = \")\n",
    "display(u)"
   ]
  },
  {
   "cell_type": "code",
   "execution_count": 6,
   "metadata": {},
   "outputs": [
    {
     "name": "stdout",
     "output_type": "stream",
     "text": [
      "v(x, y) = \n"
     ]
    },
    {
     "data": {
      "text/latex": [
       "$\\displaystyle K_{1} z^{3} \\left(SAIY_{ij} \\operatorname{Ni}{\\left(x \\right)} \\operatorname{gv}{\\left(y \\right)} + \\left(W_{ij} \\operatorname{Fi}{\\left(x \\right)} + \\operatorname{Hi}{\\left(x \\right)} \\frac{d}{d x} W_{ij}\\right) \\frac{d}{d y} \\operatorname{gu}{\\left(y \\right)}\\right) + SAIY_{ij} z \\operatorname{Ni}{\\left(x \\right)} \\operatorname{gv}{\\left(y \\right)} + V_{ij} \\operatorname{Ni}{\\left(x \\right)} \\operatorname{gv}{\\left(y \\right)}$"
      ],
      "text/plain": [
       "K1*z**3*(SAIY_ij*Ni(x)*gv(y) + (W_ij*Fi(x) + Hi(x)*Derivative(W_ij, x))*Derivative(gu(y), y)) + SAIY_ij*z*Ni(x)*gv(y) + V_ij*Ni(x)*gv(y)"
      ]
     },
     "metadata": {},
     "output_type": "display_data"
    }
   ],
   "source": [
    "v = V0+z*saiy+K1*(z**3)*(saiy+diff(W0, y))\n",
    "print(\"v(x, y) = \")\n",
    "display(v)"
   ]
  },
  {
   "cell_type": "code",
   "execution_count": 7,
   "metadata": {},
   "outputs": [
    {
     "name": "stdout",
     "output_type": "stream",
     "text": [
      "w(x, y) = \n"
     ]
    },
    {
     "data": {
      "text/latex": [
       "$\\displaystyle \\left(W_{ij} \\operatorname{Fi}{\\left(x \\right)} + \\operatorname{Hi}{\\left(x \\right)} \\frac{d}{d x} W_{ij}\\right) \\operatorname{gu}{\\left(y \\right)}$"
      ],
      "text/plain": [
       "(W_ij*Fi(x) + Hi(x)*Derivative(W_ij, x))*gu(y)"
      ]
     },
     "metadata": {},
     "output_type": "display_data"
    }
   ],
   "source": [
    "w = W0\n",
    "print(\"w(x, y) = \")\n",
    "display(w)"
   ]
  },
  {
   "cell_type": "markdown",
   "metadata": {},
   "source": [
    "## Strain Matrix"
   ]
  },
  {
   "cell_type": "code",
   "execution_count": 8,
   "metadata": {},
   "outputs": [
    {
     "data": {
      "text/latex": [
       "$\\displaystyle K_{1} z^{3} \\left(SAIX_{ij} \\operatorname{gu}{\\left(y \\right)} \\frac{d}{d x} \\operatorname{Ni}{\\left(x \\right)} + \\left(W_{ij} \\frac{d^{2}}{d x^{2}} \\operatorname{Fi}{\\left(x \\right)} + \\frac{d}{d x} W_{ij} \\frac{d^{2}}{d x^{2}} \\operatorname{Hi}{\\left(x \\right)}\\right) \\operatorname{gu}{\\left(y \\right)}\\right) + SAIX_{ij} z \\operatorname{gu}{\\left(y \\right)} \\frac{d}{d x} \\operatorname{Ni}{\\left(x \\right)} + U_{ij} \\operatorname{gu}{\\left(y \\right)} \\frac{d}{d x} \\operatorname{Ni}{\\left(x \\right)}$"
      ],
      "text/plain": [
       "K1*z**3*(SAIX_ij*gu(y)*Derivative(Ni(x), x) + (W_ij*Derivative(Fi(x), (x, 2)) + Derivative(W_ij, x)*Derivative(Hi(x), (x, 2)))*gu(y)) + SAIX_ij*z*gu(y)*Derivative(Ni(x), x) + U_ij*gu(y)*Derivative(Ni(x), x)"
      ]
     },
     "metadata": {},
     "output_type": "display_data"
    }
   ],
   "source": [
    "epsilon_x = diff(U0, x) + z*diff(saix, x) + (z**3)*K1*(diff(saix, x)+diff(W0, x, x))\n",
    "display(epsilon_x)"
   ]
  },
  {
   "cell_type": "code",
   "execution_count": 9,
   "metadata": {},
   "outputs": [
    {
     "data": {
      "text/latex": [
       "$\\displaystyle K_{1} z^{3} \\left(SAIY_{ij} \\operatorname{Ni}{\\left(x \\right)} \\frac{d}{d y} \\operatorname{gv}{\\left(y \\right)} + \\left(W_{ij} \\operatorname{Fi}{\\left(x \\right)} + \\operatorname{Hi}{\\left(x \\right)} \\frac{d}{d x} W_{ij}\\right) \\frac{d^{2}}{d y^{2}} \\operatorname{gu}{\\left(y \\right)}\\right) + SAIY_{ij} z \\operatorname{Ni}{\\left(x \\right)} \\frac{d}{d y} \\operatorname{gv}{\\left(y \\right)} + V_{ij} \\operatorname{Ni}{\\left(x \\right)} \\frac{d}{d y} \\operatorname{gv}{\\left(y \\right)}$"
      ],
      "text/plain": [
       "K1*z**3*(SAIY_ij*Ni(x)*Derivative(gv(y), y) + (W_ij*Fi(x) + Hi(x)*Derivative(W_ij, x))*Derivative(gu(y), (y, 2))) + SAIY_ij*z*Ni(x)*Derivative(gv(y), y) + V_ij*Ni(x)*Derivative(gv(y), y)"
      ]
     },
     "metadata": {},
     "output_type": "display_data"
    }
   ],
   "source": [
    "epsilon_y = diff(V0, y) + z*diff(saiy, y) + (z**3)*K1*(diff(saiy, y)+diff(W0, y, y))\n",
    "display(epsilon_y)"
   ]
  },
  {
   "cell_type": "code",
   "execution_count": 10,
   "metadata": {},
   "outputs": [
    {
     "data": {
      "text/latex": [
       "$\\displaystyle K_{1} z^{3} \\left(SAIX_{ij} \\operatorname{Ni}{\\left(x \\right)} \\frac{d}{d y} \\operatorname{gu}{\\left(y \\right)} + SAIY_{ij} \\operatorname{gv}{\\left(y \\right)} \\frac{d}{d x} \\operatorname{Ni}{\\left(x \\right)} + 2 \\left(W_{ij} \\frac{d}{d x} \\operatorname{Fi}{\\left(x \\right)} + \\frac{d}{d x} W_{ij} \\frac{d}{d x} \\operatorname{Hi}{\\left(x \\right)}\\right) \\frac{d}{d y} \\operatorname{gu}{\\left(y \\right)}\\right) + U_{ij} \\operatorname{Ni}{\\left(x \\right)} \\frac{d}{d y} \\operatorname{gu}{\\left(y \\right)} + V_{ij} \\operatorname{gv}{\\left(y \\right)} \\frac{d}{d x} \\operatorname{Ni}{\\left(x \\right)} + z \\left(SAIX_{ij} \\operatorname{Ni}{\\left(x \\right)} \\frac{d}{d y} \\operatorname{gu}{\\left(y \\right)} + SAIY_{ij} \\operatorname{gv}{\\left(y \\right)} \\frac{d}{d x} \\operatorname{Ni}{\\left(x \\right)}\\right)$"
      ],
      "text/plain": [
       "K1*z**3*(SAIX_ij*Ni(x)*Derivative(gu(y), y) + SAIY_ij*gv(y)*Derivative(Ni(x), x) + 2*(W_ij*Derivative(Fi(x), x) + Derivative(W_ij, x)*Derivative(Hi(x), x))*Derivative(gu(y), y)) + U_ij*Ni(x)*Derivative(gu(y), y) + V_ij*gv(y)*Derivative(Ni(x), x) + z*(SAIX_ij*Ni(x)*Derivative(gu(y), y) + SAIY_ij*gv(y)*Derivative(Ni(x), x))"
      ]
     },
     "metadata": {},
     "output_type": "display_data"
    }
   ],
   "source": [
    "epsilon_xy = (diff(U0, y)+diff(V0, x)) + z*(diff(saix, y)+diff(saiy, x)) + (z**3)*K1*(diff(saix, y)+diff(saiy, x)+ 2*diff(W0, x, y))\n",
    "display(epsilon_xy)"
   ]
  },
  {
   "cell_type": "code",
   "execution_count": 11,
   "metadata": {},
   "outputs": [
    {
     "data": {
      "text/latex": [
       "$\\displaystyle K_{2} z^{2} \\left(SAIX_{ij} \\operatorname{Ni}{\\left(x \\right)} \\operatorname{gu}{\\left(y \\right)} + \\left(W_{ij} \\frac{d}{d x} \\operatorname{Fi}{\\left(x \\right)} + \\frac{d}{d x} W_{ij} \\frac{d}{d x} \\operatorname{Hi}{\\left(x \\right)}\\right) \\operatorname{gu}{\\left(y \\right)}\\right) + SAIX_{ij} \\operatorname{Ni}{\\left(x \\right)} \\operatorname{gu}{\\left(y \\right)} + \\left(W_{ij} \\frac{d}{d x} \\operatorname{Fi}{\\left(x \\right)} + \\frac{d}{d x} W_{ij} \\frac{d}{d x} \\operatorname{Hi}{\\left(x \\right)}\\right) \\operatorname{gu}{\\left(y \\right)}$"
      ],
      "text/plain": [
       "K2*z**2*(SAIX_ij*Ni(x)*gu(y) + (W_ij*Derivative(Fi(x), x) + Derivative(W_ij, x)*Derivative(Hi(x), x))*gu(y)) + SAIX_ij*Ni(x)*gu(y) + (W_ij*Derivative(Fi(x), x) + Derivative(W_ij, x)*Derivative(Hi(x), x))*gu(y)"
      ]
     },
     "metadata": {},
     "output_type": "display_data"
    }
   ],
   "source": [
    "# K2 = (-4/h**2)\n",
    "K2 = Symbol(\"K2\")\n",
    "epsilon_xz = (saix+diff(W0, x)) + (z**2)*K2*(saix+diff(W0, x))\n",
    "display(epsilon_xz)"
   ]
  },
  {
   "cell_type": "code",
   "execution_count": 12,
   "metadata": {},
   "outputs": [
    {
     "data": {
      "text/latex": [
       "$\\displaystyle K_{2} z^{2} \\left(SAIY_{ij} \\operatorname{Ni}{\\left(x \\right)} \\operatorname{gv}{\\left(y \\right)} + \\left(W_{ij} \\operatorname{Fi}{\\left(x \\right)} + \\operatorname{Hi}{\\left(x \\right)} \\frac{d}{d x} W_{ij}\\right) \\frac{d}{d y} \\operatorname{gu}{\\left(y \\right)}\\right) + SAIY_{ij} \\operatorname{Ni}{\\left(x \\right)} \\operatorname{gv}{\\left(y \\right)} + \\left(W_{ij} \\operatorname{Fi}{\\left(x \\right)} + \\operatorname{Hi}{\\left(x \\right)} \\frac{d}{d x} W_{ij}\\right) \\frac{d}{d y} \\operatorname{gu}{\\left(y \\right)}$"
      ],
      "text/plain": [
       "K2*z**2*(SAIY_ij*Ni(x)*gv(y) + (W_ij*Fi(x) + Hi(x)*Derivative(W_ij, x))*Derivative(gu(y), y)) + SAIY_ij*Ni(x)*gv(y) + (W_ij*Fi(x) + Hi(x)*Derivative(W_ij, x))*Derivative(gu(y), y)"
      ]
     },
     "metadata": {},
     "output_type": "display_data"
    }
   ],
   "source": [
    "epsilon_yz = (saiy+diff(W0, y)) + (z**2)*K2*(saiy+diff(W0, y))\n",
    "display(epsilon_yz)"
   ]
  },
  {
   "cell_type": "code",
   "execution_count": 13,
   "metadata": {},
   "outputs": [
    {
     "data": {
      "text/latex": [
       "$\\displaystyle \\left[\\begin{matrix}\\sin{\\left(\\frac{\\pi n y}{b} \\right)} \\frac{d}{d x} \\operatorname{Ni}{\\left(x \\right)} & 0 & - \\frac{4 z^{3} \\sin{\\left(\\frac{\\pi n y}{b} \\right)} \\frac{d^{2}}{d x^{2}} \\operatorname{Fi}{\\left(x \\right)}}{3 h^{2}} & - \\frac{4 z^{3} \\sin{\\left(\\frac{\\pi n y}{b} \\right)} \\frac{d^{2}}{d x^{2}} \\operatorname{Hi}{\\left(x \\right)}}{3 h^{2}} & \\left(z - \\frac{4 z^{3}}{3 h^{2}}\\right) \\sin{\\left(\\frac{\\pi n y}{b} \\right)} \\frac{d}{d x} \\operatorname{Ni}{\\left(x \\right)} & 0\\\\0 & - \\frac{\\pi n \\operatorname{Ni}{\\left(x \\right)} \\sin{\\left(\\frac{\\pi n y}{b} \\right)}}{b} & \\frac{4 \\pi^{2} n^{2} z^{3} \\operatorname{Fi}{\\left(x \\right)} \\sin{\\left(\\frac{\\pi n y}{b} \\right)}}{3 b^{2} h^{2}} & \\frac{4 \\pi^{2} n^{2} z^{3} \\operatorname{Hi}{\\left(x \\right)} \\sin{\\left(\\frac{\\pi n y}{b} \\right)}}{3 b^{2} h^{2}} & 0 & - \\frac{\\pi n \\left(z - \\frac{4 z^{3}}{3 h^{2}}\\right) \\operatorname{Ni}{\\left(x \\right)} \\sin{\\left(\\frac{\\pi n y}{b} \\right)}}{b}\\\\\\frac{\\pi n \\operatorname{Ni}{\\left(x \\right)} \\cos{\\left(\\frac{\\pi n y}{b} \\right)}}{b} & \\cos{\\left(\\frac{\\pi n y}{b} \\right)} \\frac{d}{d x} \\operatorname{Ni}{\\left(x \\right)} & - \\frac{8 \\pi n z^{3} \\cos{\\left(\\frac{\\pi n y}{b} \\right)} \\frac{d}{d x} \\operatorname{Fi}{\\left(x \\right)}}{3 b h^{2}} & - \\frac{8 \\pi n z^{3} \\cos{\\left(\\frac{\\pi n y}{b} \\right)} \\frac{d}{d x} \\operatorname{Hi}{\\left(x \\right)}}{3 b h^{2}} & \\frac{\\pi n \\left(z - \\frac{4 z^{3}}{3 h^{2}}\\right) \\operatorname{Ni}{\\left(x \\right)} \\cos{\\left(\\frac{\\pi n y}{b} \\right)}}{b} & \\left(z - \\frac{4 z^{3}}{3 h^{2}}\\right) \\cos{\\left(\\frac{\\pi n y}{b} \\right)} \\frac{d}{d x} \\operatorname{Ni}{\\left(x \\right)}\\\\0 & 0 & \\frac{\\pi n \\left(1 - \\frac{4 z^{2}}{h^{2}}\\right) \\operatorname{Fi}{\\left(x \\right)} \\cos{\\left(\\frac{\\pi n y}{b} \\right)}}{b} & \\frac{\\pi n \\left(1 - \\frac{4 z^{2}}{h^{2}}\\right) \\operatorname{Hi}{\\left(x \\right)} \\cos{\\left(\\frac{\\pi n y}{b} \\right)}}{b} & 0 & \\left(1 - \\frac{4 z^{2}}{h^{2}}\\right) \\operatorname{Ni}{\\left(x \\right)} \\cos{\\left(\\frac{\\pi n y}{b} \\right)}\\\\0 & 0 & \\left(1 - \\frac{4 z^{2}}{h^{2}}\\right) \\sin{\\left(\\frac{\\pi n y}{b} \\right)} \\frac{d}{d x} \\operatorname{Fi}{\\left(x \\right)} & \\left(1 - \\frac{4 z^{2}}{h^{2}}\\right) \\sin{\\left(\\frac{\\pi n y}{b} \\right)} \\frac{d}{d x} \\operatorname{Hi}{\\left(x \\right)} & \\left(1 - \\frac{4 z^{2}}{h^{2}}\\right) \\operatorname{Ni}{\\left(x \\right)} \\sin{\\left(\\frac{\\pi n y}{b} \\right)} & 0\\end{matrix}\\right]$"
      ],
      "text/plain": [
       "Matrix([\n",
       "[sin(pi*n*y/b)*Derivative(Ni(x), x),                                  0,   -4*z**3*sin(pi*n*y/b)*Derivative(Fi(x), (x, 2))/(3*h**2),   -4*z**3*sin(pi*n*y/b)*Derivative(Hi(x), (x, 2))/(3*h**2), (z - 4*z**3/(3*h**2))*sin(pi*n*y/b)*Derivative(Ni(x), x),                                                        0],\n",
       "[                                 0,        -pi*n*Ni(x)*sin(pi*n*y/b)/b,        4*pi**2*n**2*z**3*Fi(x)*sin(pi*n*y/b)/(3*b**2*h**2),        4*pi**2*n**2*z**3*Hi(x)*sin(pi*n*y/b)/(3*b**2*h**2),                                                        0,        -pi*n*(z - 4*z**3/(3*h**2))*Ni(x)*sin(pi*n*y/b)/b],\n",
       "[        pi*n*Ni(x)*cos(pi*n*y/b)/b, cos(pi*n*y/b)*Derivative(Ni(x), x), -8*pi*n*z**3*cos(pi*n*y/b)*Derivative(Fi(x), x)/(3*b*h**2), -8*pi*n*z**3*cos(pi*n*y/b)*Derivative(Hi(x), x)/(3*b*h**2),         pi*n*(z - 4*z**3/(3*h**2))*Ni(x)*cos(pi*n*y/b)/b, (z - 4*z**3/(3*h**2))*cos(pi*n*y/b)*Derivative(Ni(x), x)],\n",
       "[                                 0,                                  0,               pi*n*(1 - 4*z**2/h**2)*Fi(x)*cos(pi*n*y/b)/b,               pi*n*(1 - 4*z**2/h**2)*Hi(x)*cos(pi*n*y/b)/b,                                                        0,                    (1 - 4*z**2/h**2)*Ni(x)*cos(pi*n*y/b)],\n",
       "[                                 0,                                  0,       (1 - 4*z**2/h**2)*sin(pi*n*y/b)*Derivative(Fi(x), x),       (1 - 4*z**2/h**2)*sin(pi*n*y/b)*Derivative(Hi(x), x),                    (1 - 4*z**2/h**2)*Ni(x)*sin(pi*n*y/b),                                                        0]])"
      ]
     },
     "metadata": {},
     "output_type": "display_data"
    }
   ],
   "source": [
    "n, h, a, b = symbols(\"n h a b\")\n",
    "k1 = -4/(3*h**2)\n",
    "k2 = -4/(h**2)\n",
    "Si = sin(n*pi*y/b)\n",
    "Ci = cos(n*pi*y/b)\n",
    "Bm = Matrix([\n",
    "    [diff(Ni, x)*Si,   0,   (k1*z**3)*diff(Fi, x, 2)*Si,   (k1*z**3)*diff(Hi, x, 2)*Si,   (z+k1*z**3)*diff(Ni, x)*Si,   0],\n",
    "    [0,   Ni*diff(Ci, y),   (k1*z**3)*Fi*diff(Si, y, 2),   (k1*z**3)*Hi*diff(Si, y, 2),   0,   (z+k1*z**3)*Ni*diff(Ci, y)],\n",
    "    [Ni*diff(Si, y),   diff(Ni, x)*Ci,   2*(k1*z**3)*diff(Fi, x)*diff(Si, y),   2*(k1*z**3)*diff(Hi, x)*diff(Si, y),   (z+k1*z**3)*Ni*diff(Si, y),   (z+k1*z**3)*diff(Ni, x)*Ci],\n",
    "    [0,   0,   (1+k2*z**2)*Fi*diff(Si, y),   (1+k2*z**2)*Hi*diff(Si, y),   0,   (1+k2*z**2)*Ni*Ci],\n",
    "    [0,   0,   (1+k2*z**2)*diff(Fi, x)*Si,   (1+k2*z**2)*diff(Hi, x)*Si,   (1+k2*z**2)*Ni*Si,   0],\n",
    "    ])\n",
    "display(Bm)"
   ]
  },
  {
   "cell_type": "code",
   "execution_count": null,
   "metadata": {},
   "outputs": [],
   "source": []
  }
 ],
 "metadata": {
  "kernelspec": {
   "display_name": "Python 3 (ipykernel)",
   "language": "python",
   "name": "python3"
  },
  "language_info": {
   "codemirror_mode": {
    "name": "ipython",
    "version": 3
   },
   "file_extension": ".py",
   "mimetype": "text/x-python",
   "name": "python",
   "nbconvert_exporter": "python",
   "pygments_lexer": "ipython3",
   "version": "3.10.0"
  }
 },
 "nbformat": 4,
 "nbformat_minor": 4
}
